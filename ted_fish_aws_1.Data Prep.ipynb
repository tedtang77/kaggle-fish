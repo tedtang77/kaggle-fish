{
 "cells": [
  {
   "cell_type": "markdown",
   "metadata": {},
   "source": [
    "# The Nature Conservancy Fisheries Monitoring\n",
    "[The Nature Conservancy Fisheries Monitoring](https://www.kaggle.com/c/the-nature-conservancy-fisheries-monitoring) "
   ]
  },
  {
   "cell_type": "markdown",
   "metadata": {},
   "source": [
    "## Action Plan\n",
    "### 1. Data Preparation and Preprocessing\n",
    "### 2. Finetune and Train Model\n",
    "### 2b. Data Augmentation parameter tuning\n",
    "### 3. Generate and Validate Predictions \n",
    "### 4. Submit predictions to Kaggle"
   ]
  },
  {
   "cell_type": "code",
   "execution_count": 1,
   "metadata": {},
   "outputs": [
    {
     "data": {
      "text/plain": [
       "'D:\\\\Dropbox\\\\Ted 2017\\\\11A_技術\\\\[TREND] Data Science and ML\\\\[Tutorials] Kaggle\\\\[Competitions] Kaggle Competitions\\\\2016-10_ImgClass_The Nature Fisheries Monitoring\\\\code'"
      ]
     },
     "execution_count": 1,
     "metadata": {},
     "output_type": "execute_result"
    }
   ],
   "source": [
    "%pwd"
   ]
  },
  {
   "cell_type": "code",
   "execution_count": 2,
   "metadata": {},
   "outputs": [
    {
     "name": "stdout",
     "output_type": "stream",
     "text": [
      "D:\\Dropbox\\Ted 2017\\11A_技術\\[TREND] Data Science and ML\\[Tutorials] Kaggle\\[Competitions] Kaggle Competitions\\2016-10_ImgClass_The Nature Fisheries Monitoring\\code\n",
      "D:\\Dropbox\\Ted 2017\\11A_技術\\[TREND] Data Science and ML\\[Tutorials] Kaggle\\[Competitions] Kaggle Competitions\\2016-10_ImgClass_The Nature Fisheries Monitoring\\code/../input/\n"
     ]
    }
   ],
   "source": [
    "#Create references to important directories we will use over and over\n",
    "import os, sys\n",
    "current_dir = os.getcwd()\n",
    "CODE_HOME_DIR = current_dir\n",
    "DATA_HOME_DIR = CODE_HOME_DIR + '/../input/'\n",
    "print(CODE_HOME_DIR)\n",
    "print(DATA_HOME_DIR)"
   ]
  },
  {
   "cell_type": "code",
   "execution_count": 3,
   "metadata": {},
   "outputs": [
    {
     "name": "stderr",
     "output_type": "stream",
     "text": [
      "Using TensorFlow backend.\n"
     ]
    }
   ],
   "source": [
    "#Allow relative imports to directories above this folder/\n",
    "sys.path.insert(1,os.path.join(sys.path[0], '..'))\n",
    "\n",
    "#import modules\n",
    "import utils\n",
    "from utils import *\n",
    "# from vgg16_ted import vgg16BN\n",
    "%matplotlib inline"
   ]
  },
  {
   "cell_type": "markdown",
   "metadata": {},
   "source": [
    "# 1. Data Preparation and Preprocessing\n",
    "- **Create Validation and Sample sets**\n",
    "- **Rearrange image files into their respective directories** "
   ]
  },
  {
   "cell_type": "code",
   "execution_count": 9,
   "metadata": {},
   "outputs": [
    {
     "name": "stdout",
     "output_type": "stream",
     "text": [
      "D:\\Dropbox\\Ted 2017\\11A_技術\\[TREND] Data Science and ML\\[Tutorials] Kaggle\\[Competitions] Kaggle Competitions\\2016-10_ImgClass_The Nature Fisheries Monitoring\\input\n"
     ]
    }
   ],
   "source": [
    "%cd $DATA_HOME_DIR\n",
    "\n",
    "\"\"\"\n",
    "#[Linux environment]\n",
    "%mkdir -p valid\n",
    "%mkdir -p results\n",
    "%mkdir -p models\n",
    "\n",
    "%mkdir -p sample/train\n",
    "%mkdir -p sample/valid\n",
    "%mkdir -p sample/test\n",
    "%mkdir -p sample/results\n",
    "%mkdir -p sample/models\n",
    "\n",
    "%mkdir -p test/unknown\n",
    "%mkdir -p sample/test/unknown\n",
    "\"\"\"\n",
    "\n",
    "#[Windos environment]\n",
    "\n",
    "%mkdir valid\n",
    "%mkdir results\n",
    "%mkdir models\n",
    "\n",
    "%mkdir \"sample/train\"\n",
    "%mkdir \"sample/valid\"\n",
    "%mkdir \"sample/test_stg1\"\n",
    "%mkdir \"sample/results\"\n",
    "%mkdir \"sample/models\"\n",
    "\n",
    "%mkdir \"test/unknown\"\n",
    "%mkdir \"sample/test/unknown\""
   ]
  },
  {
   "cell_type": "markdown",
   "metadata": {},
   "source": [
    "#### Setup Paths"
   ]
  },
  {
   "cell_type": "code",
   "execution_count": 23,
   "metadata": {},
   "outputs": [
    {
     "name": "stdout",
     "output_type": "stream",
     "text": [
      "D:\\Dropbox\\Ted 2017\\11A_技術\\[TREND] Data Science and ML\\[Tutorials] Kaggle\\[Competitions] Kaggle Competitions\\2016-10_ImgClass_The Nature Fisheries Monitoring\\input\n"
     ]
    }
   ],
   "source": [
    "%cd $DATA_HOME_DIR\n",
    "\n",
    "#Set path to sample/ path if desired\n",
    "path = DATA_HOME_DIR + '/' # + '/sample/' \n",
    "result_path = path + 'results/'\n",
    "train_path = path + 'train/'\n",
    "valid_path = path + 'valid/'\n",
    "test_path = path + 'test/'\n",
    "model_path = path + 'models/'\n",
    "if not os.path.exists(model_path): os.makedirs(model_path)\n",
    "    \n",
    "sample_path = DATA_HOME_DIR + '/sample/' \n",
    "sample_result_path = sample_path + 'results/'\n",
    "sample_train_path = sample_path + 'train/'\n",
    "sample_valid_path = sample_path + 'valid/'\n",
    "sample_test_path = sample_path + 'test/'\n",
    "sample_model_path = sample_path + 'models/'\n",
    "if not os.path.exists(sample_model_path): os.makedirs(sample_model_path)"
   ]
  },
  {
   "cell_type": "code",
   "execution_count": 11,
   "metadata": {
    "collapsed": true
   },
   "outputs": [],
   "source": [
    "batch_size = 64"
   ]
  },
  {
   "cell_type": "markdown",
   "metadata": {},
   "source": [
    "### 1.1 Build datasets for /valid/ by copying 500 files from /train/"
   ]
  },
  {
   "cell_type": "code",
   "execution_count": 22,
   "metadata": {},
   "outputs": [
    {
     "name": "stdout",
     "output_type": "stream",
     "text": [
      "D:\\Dropbox\\Ted 2017\\11A_技術\\[TREND] Data Science and ML\\[Tutorials] Kaggle\\[Competitions] Kaggle Competitions\\2016-10_ImgClass_The Nature Fisheries Monitoring\\input\\train\n",
      "D:\\Dropbox\\Ted 2017\\11A_技術\\[TREND] Data Science and ML\\[Tutorials] Kaggle\\[Competitions] Kaggle Competitions\\2016-10_ImgClass_The Nature Fisheries Monitoring\\code/../input//valid/\n",
      "8 folders in train\n",
      "[before setup] 3277 imgs in train\n",
      "[after setup] 3277 imgs in train\n",
      "D:\\Dropbox\\Ted 2017\\11A_技術\\[TREND] Data Science and ML\\[Tutorials] Kaggle\\[Competitions] Kaggle Competitions\\2016-10_ImgClass_The Nature Fisheries Monitoring\\input\\valid\n",
      "8 folders in valid\n",
      "500 imgs in valid\n"
     ]
    }
   ],
   "source": [
    "% cd $train_path\n",
    "\n",
    "g = glob('*')\n",
    "print(\"{} folders in train\".format(len(g)))\n",
    "#for d in g: os.mkdir(valid_path+d)\n",
    "\n",
    "g = glob('*/*.jpg')\n",
    "print(\"[before] {} imgs in train\".format(len(g)))\n",
    "shuf = np.random.permutation(g)\n",
    "#for i in range(500):  os.rename(shuf[i], valid_path+shuf[i])\n",
    "g = glob('*/*.jpg')\n",
    "print(\"{} imgs in train\".format(len(g)))\n",
    "\n",
    "# test\n",
    "% cd $valid_path\n",
    "g = glob('*')\n",
    "print(\"{} folders in valid\".format(len(g)))\n",
    "g = glob('*/*.jpg')\n",
    "print(\"{} imgs in valid\".format(len(g)))"
   ]
  },
  {
   "cell_type": "markdown",
   "metadata": {},
   "source": [
    "### 1.2a Build datasets for /sample/train/ and /sample/valid/ by copy files from /train/ and /valid/"
   ]
  },
  {
   "cell_type": "code",
   "execution_count": 24,
   "metadata": {},
   "outputs": [
    {
     "name": "stdout",
     "output_type": "stream",
     "text": [
      "D:\\Dropbox\\Ted 2017\\11A_技術\\[TREND] Data Science and ML\\[Tutorials] Kaggle\\[Competitions] Kaggle Competitions\\2016-10_ImgClass_The Nature Fisheries Monitoring\\input\\train\n",
      "D:\\Dropbox\\Ted 2017\\11A_技術\\[TREND] Data Science and ML\\[Tutorials] Kaggle\\[Competitions] Kaggle Competitions\\2016-10_ImgClass_The Nature Fisheries Monitoring\\input\\valid\n",
      "D:\\Dropbox\\Ted 2017\\11A_技術\\[TREND] Data Science and ML\\[Tutorials] Kaggle\\[Competitions] Kaggle Competitions\\2016-10_ImgClass_The Nature Fisheries Monitoring\\input\\sample\\train\n",
      "8 folders in sample/train\n",
      "400 imgs in sample/train\n",
      "D:\\Dropbox\\Ted 2017\\11A_技術\\[TREND] Data Science and ML\\[Tutorials] Kaggle\\[Competitions] Kaggle Competitions\\2016-10_ImgClass_The Nature Fisheries Monitoring\\input\\sample\\valid\n",
      "8 folders in sample/valid\n",
      "200 imgs in sample/valid\n"
     ]
    }
   ],
   "source": [
    "% cd $train_path\n",
    "\n",
    "g = glob('*')\n",
    "for d in g: \n",
    "    os.mkdir(sample_train_path+d)\n",
    "    os.mkdir(sample_valid_path+d)\n",
    "\n",
    "g = glob('*/*.jpg')\n",
    "shuf = np.random.permutation(g)\n",
    "#for i in range(400): copyfile(shuf[i], sample_train_path+shuf[i])\n",
    "\n",
    "% cd $valid_path\n",
    "g = glob('*/*.jpg')\n",
    "shuf = np.random.permutation(g)\n",
    "#for i in range(200): copyfile(shuf[i], sample_valid_path+shuf[i])\n",
    "\n",
    "# test\n",
    "% cd $sample_train_path\n",
    "g = glob('*')\n",
    "print(\"{} folders in sample/train\".format(len(g)))\n",
    "g = glob('*/*.jpg')\n",
    "print(\"{} imgs in sample/train\".format(len(g)))\n",
    "\n",
    "% cd $sample_valid_path\n",
    "g = glob('*')\n",
    "print(\"{} folders in sample/valid\".format(len(g)))\n",
    "g = glob('*/*.jpg')\n",
    "print(\"{} imgs in sample/valid\".format(len(g)))"
   ]
  },
  {
   "cell_type": "markdown",
   "metadata": {},
   "source": [
    "### 1.2b Build datasets for /sample/test/unkown/ by copy files from /test/unknown/ (after moving from /test)"
   ]
  },
  {
   "cell_type": "code",
   "execution_count": 28,
   "metadata": {
    "scrolled": true
   },
   "outputs": [
    {
     "name": "stdout",
     "output_type": "stream",
     "text": [
      "D:\\Dropbox\\Ted 2017\\11A_技術\\[TREND] Data Science and ML\\[Tutorials] Kaggle\\[Competitions] Kaggle Competitions\\2016-10_ImgClass_The Nature Fisheries Monitoring\\input\\test\n",
      "[before] 1000 imgs in test\n",
      "0 imgs in test\n",
      "1000 imgs in test/unknown\n",
      "D:\\Dropbox\\Ted 2017\\11A_技術\\[TREND] Data Science and ML\\[Tutorials] Kaggle\\[Competitions] Kaggle Competitions\\2016-10_ImgClass_The Nature Fisheries Monitoring\\input\\sample\\test\n",
      "[before] 200 imgs in sample/test\n",
      "0 imgs in sample/test\n",
      "200 imgs in sample/test/unknown\n"
     ]
    }
   ],
   "source": [
    "%cd $test_path\n",
    "g = glob('*.jpg')\n",
    "print(\"[before] {} imgs in test\".format(len(g)))\n",
    "shuf = np.random.permutation(g)\n",
    "#for i in range(200): copyfile(shuf[i], sample_test_path+shuf[i])\n",
    "\n",
    "#for i in range(len(g)): os.rename(g[i], 'unknown/'+g[i])\n",
    "g = glob('*.jpg')\n",
    "print(\"{} imgs in test\".format(len(g)))\n",
    "g = glob('unknown/*.jpg')\n",
    "print(\"{} imgs in test/unknown\".format(len(g)))\n",
    "\n",
    "%cd $sample_test_path\n",
    "g = glob('*.jpg')\n",
    "print(\"[before] {} imgs in sample/test\".format(len(g)))\n",
    "#for i in range(len(g)): os.rename(g[i], 'unknown/'+g[i])\n",
    "    \n",
    "g = glob('*.jpg')\n",
    "print(\"{} imgs in sample/test\".format(len(g)))\n",
    "g = glob('unknown/*.jpg')\n",
    "print(\"{} imgs in sample/test/unknown\".format(len(g)))"
   ]
  },
  {
   "cell_type": "code",
   "execution_count": null,
   "metadata": {
    "collapsed": true
   },
   "outputs": [],
   "source": []
  }
 ],
 "metadata": {
  "kernelspec": {
   "display_name": "Python 3",
   "language": "python",
   "name": "python3"
  },
  "language_info": {
   "codemirror_mode": {
    "name": "ipython",
    "version": 3
   },
   "file_extension": ".py",
   "mimetype": "text/x-python",
   "name": "python",
   "nbconvert_exporter": "python",
   "pygments_lexer": "ipython3",
   "version": "3.6.2"
  }
 },
 "nbformat": 4,
 "nbformat_minor": 2
}
